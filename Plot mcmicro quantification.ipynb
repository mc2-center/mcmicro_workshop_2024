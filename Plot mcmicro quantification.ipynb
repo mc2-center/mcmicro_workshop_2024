{
 "cells": [
  {
   "cell_type": "code",
   "execution_count": null,
   "id": "b1c0280d-8351-40eb-8de6-304d8b7e5e05",
   "metadata": {},
   "outputs": [],
   "source": [
    "import pandas as pd"
   ]
  },
  {
   "cell_type": "code",
   "execution_count": null,
   "id": "8a55a733-f80d-4c4f-89b5-dac9172ac518",
   "metadata": {},
   "outputs": [],
   "source": [
    "df = pd.read_csv('sample-results-test/quantification/mcquant/mesmer/TEST1_mask_TEST1.csv')"
   ]
  },
  {
   "cell_type": "code",
   "execution_count": null,
   "id": "2ee83ebe-8a06-43ab-85e1-1fa68b092524",
   "metadata": {},
   "outputs": [],
   "source": [
    "list(df.columns)"
   ]
  },
  {
   "cell_type": "code",
   "execution_count": null,
   "id": "bbff9268-3373-41e9-afd8-d8338ad9fc9e",
   "metadata": {},
   "outputs": [],
   "source": [
    "df.head()"
   ]
  },
  {
   "cell_type": "code",
   "execution_count": null,
   "id": "0807e504-a7b3-4c70-b78a-06b30595e420",
   "metadata": {},
   "outputs": [],
   "source": [
    "df.plot.scatter(x='CD3', y='CD45RO', alpha=0.1, loglog=True)"
   ]
  }
 ],
 "metadata": {
  "kernelspec": {
   "display_name": "Python 3 (ipykernel)",
   "language": "python",
   "name": "python3"
  },
  "language_info": {
   "codemirror_mode": {
    "name": "ipython",
    "version": 3
   },
   "file_extension": ".py",
   "mimetype": "text/x-python",
   "name": "python",
   "nbconvert_exporter": "python",
   "pygments_lexer": "ipython3",
   "version": "3.10.13"
  }
 },
 "nbformat": 4,
 "nbformat_minor": 5
}
